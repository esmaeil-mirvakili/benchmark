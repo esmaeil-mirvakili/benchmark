{
 "cells": [
  {
   "cell_type": "markdown",
   "metadata": {},
   "source": [
    "system:\n",
    "\n",
    "`$ lsb_release -a` \n",
    "`$ uname -a` \n",
    "```\n",
    "Ubuntu 18.04.1 LTS\n",
    "Linux hp158 4.15.0-88-generic #88-Ubuntu SMP Tue Feb 11 20:11:34 UTC 2020 x86_64 x86_64 x86_64 GNU/Linux\n",
    "```\n",
    "`$ sudo smartctl -a /dev/sdc` \n",
    "```\n",
    "Device Model:     VK000480GWCNQ\n",
    "Serial Number:    BTDV742000R2480BGN\n",
    "LU WWN Device Id: 5 5cd2e4 14ec4bda2\n",
    "Firmware Version: 4IDVHPG0\n",
    "User Capacity:    480,103,981,056 bytes [480 GB]\n",
    "Sector Sizes:     512 bytes logical, 4096 bytes physical\n",
    "Rotation Rate:    Solid State Device\n",
    "Form Factor:      2.5 inches\n",
    "Device is:        Not in smartctl database [for details use: -P showall]\n",
    "ATA Version is:   ACS-3 T13/2161-D revision 5\n",
    "SATA Version is:  SATA 3.1, 6.0 Gb/s (current: 6.0 Gb/s)\n",
    "Local Time is:    Tue Apr 28 08:15:08 2020 MDT\n",
    "SMART support is: Available - device has SMART capability.\n",
    "SMART support is: Enabled\n",
    "```\n"
   ]
  },
  {
   "cell_type": "markdown",
   "metadata": {},
   "source": [
    "ceph config:\n",
    "```\n",
    "    osd_op_num_shards = 8\n",
    "    osd_op_num_threads_per_shard = 2\n",
    "    enable_throttle = false\n",
    "    enable_codel = false\n",
    "    enable_batch_bound = false\n",
    "    kv_queue_upper_bound_size = 30\n",
    "    bluestore_throttle_bytes = 100000000\n",
    "    bluestore_throttle_deferred_bytes = 100000000\n",
    "    bluestore_throttle_cost_per_io = 0\n",
    "    bluestore_throttle_cost_per_io_hdd = 100000\n",
    "    bluestore_throttle_cost_per_io_ssd = 100000\n",
    "    bdev_block_size = 4096\n",
    "    bluestore_min_alloc_size = 0\n",
    "    bluestore_min_alloc_size_hdd = 65536\n",
    "    bluestore_min_alloc_size_ssd =  16384\n",
    "    bluestore_max_alloc_size = 0\n",
    "    bluestore_prefer_deferred_size = 0\n",
    "    bluestore_prefer_deferred_size_hdd = 0\n",
    "    bluestore_prefer_deferred_size_ssd = 16384\n",
    "``` "
   ]
  },
  {
   "cell_type": "markdown",
   "metadata": {},
   "source": [
    "workload:\n",
    "```\n",
    "ioengine=rbd\n",
    "clientname=admin\n",
    "pool=mybench\n",
    "rbdname=image1\n",
    "rw=randwrite\n",
    "bs=4096\n",
    ";size=83886080000\n",
    "time_based=1\n",
    "runtime=30\n",
    "direct = 1\n",
    ";write_iops_log\n",
    "\n",
    "[fio-write]\n",
    "iodepth=48\n",
    "\n",
    "```"
   ]
  },
  {
   "cell_type": "code",
   "execution_count": null,
   "metadata": {},
   "outputs": [],
   "source": []
  }
 ],
 "metadata": {
  "kernelspec": {
   "display_name": "Python 3",
   "language": "python",
   "name": "python3"
  },
  "language_info": {
   "codemirror_mode": {
    "name": "ipython",
    "version": 3
   },
   "file_extension": ".py",
   "mimetype": "text/x-python",
   "name": "python",
   "nbconvert_exporter": "python",
   "pygments_lexer": "ipython3",
   "version": "3.7.6"
  }
 },
 "nbformat": 4,
 "nbformat_minor": 4
}
