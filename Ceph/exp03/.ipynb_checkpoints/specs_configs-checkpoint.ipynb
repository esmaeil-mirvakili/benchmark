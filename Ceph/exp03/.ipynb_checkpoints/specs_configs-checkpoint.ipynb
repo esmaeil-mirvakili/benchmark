{
 "cells": [
  {
   "cell_type": "markdown",
   "metadata": {},
   "source": [
    "## 2-OSD Test"
   ]
  },
  {
   "cell_type": "markdown",
   "metadata": {},
   "source": [
    "This experiment uses 1 SSD(having file system on it) with 2 OSDs:\n",
    "```\n",
    "$ lsblk\n",
    "NAME   MAJ:MIN RM   SIZE RO TYPE MOUNTPOINT\n",
    "sda      8:0    0 447.1G  0 disk\n",
    "└─sda1   8:1    0 447.1G  0 part /\n",
    "```\n"
   ]
  },
  {
   "cell_type": "markdown",
   "metadata": {},
   "source": [
    "Two sets of tests:\\\n",
    "    1. deferred writes dominate \n",
    "    2. simple writes donimate\n",
    "    \n",
    "The differences are in the `ceph.conf`. Workloads are same for two tests. "
   ]
  },
  {
   "cell_type": "markdown",
   "metadata": {},
   "source": [
    "Observation:\\\n",
    "1. The two OSDs are not balances. One with more ops, and one with less.\n",
    "2. op_latency(avg) is biased by op_rw_latency(avg).\n",
    "3. Total latency(from FIO) is close to op_latency."
   ]
  },
  {
   "cell_type": "markdown",
   "metadata": {},
   "source": [
    "Start Ceph cluster:\\\n",
    "`$sudo MON=1 OSD=2 MDS=0 ../src/vstart.sh -n -o 'bluestore fsck on mkfs = false' -o 'bluestore fsck on mount = false' -o 'bluestore fsck on umount = false' -o 'bluestore block db path = ' -o 'bluestore block wal path = ' -o 'bluestore block wal create = false' -o 'bluestore block db create = false' --without-dashboard`"
   ]
  },
  {
   "cell_type": "code",
   "execution_count": null,
   "metadata": {},
   "outputs": [],
   "source": []
  }
 ],
 "metadata": {
  "kernelspec": {
   "display_name": "Python 3",
   "language": "python",
   "name": "python3"
  },
  "language_info": {
   "codemirror_mode": {
    "name": "ipython",
    "version": 3
   },
   "file_extension": ".py",
   "mimetype": "text/x-python",
   "name": "python",
   "nbconvert_exporter": "python",
   "pygments_lexer": "ipython3",
   "version": "3.7.6"
  }
 },
 "nbformat": 4,
 "nbformat_minor": 4
}
