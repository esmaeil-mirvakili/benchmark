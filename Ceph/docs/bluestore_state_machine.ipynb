{
 "cells": [
  {
   "cell_type": "markdown",
   "metadata": {},
   "source": [
    "## State Machine in Ceph BlueStore"
   ]
  },
  {
   "cell_type": "markdown",
   "metadata": {},
   "source": [
    "### Two Types of Writes:\n",
    "* Simple Writes\n",
    "* Deferred Writes\n",
    "\n",
    "If block size is greater than the allocation size, the IO will go through simple writes path.\\\n",
    "If block size is less than the allocation size, the IO will go through deferred writes path."
   ]
  },
  {
   "cell_type": "markdown",
   "metadata": {},
   "source": [
    "### Simple Writes\n",
    "Data is written to disk first, and then metadata is written to RocksDB.\n",
    "* BlueStore Latency = Time<sub>state_kv_done</sub> - Time<sub>state_prepare</sub> \n",
    "\n",
    "\n",
    "### Deferred Writes\n",
    "Data and metadata are written to RocksDB first, and then data is written to disk latter.\n",
    "* BlueStore Latency = Time<sub>state_kv_done</sub> - Time<sub>state_prepare</sub>"
   ]
  },
  {
   "cell_type": "markdown",
   "metadata": {},
   "source": [
    "#### All latencies measured in the BlueStore can be found in the analysis.ipynb in each experiment directory."
   ]
  },
  {
   "cell_type": "code",
   "execution_count": null,
   "metadata": {},
   "outputs": [],
   "source": []
  }
 ],
 "metadata": {
  "kernelspec": {
   "display_name": "Python 3",
   "language": "python",
   "name": "python3"
  },
  "language_info": {
   "codemirror_mode": {
    "name": "ipython",
    "version": 3
   },
   "file_extension": ".py",
   "mimetype": "text/x-python",
   "name": "python",
   "nbconvert_exporter": "python",
   "pygments_lexer": "ipython3",
   "version": "3.7.6"
  }
 },
 "nbformat": 4,
 "nbformat_minor": 4
}
