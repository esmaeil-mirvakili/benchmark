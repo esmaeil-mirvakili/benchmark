{
 "cells": [
  {
   "cell_type": "markdown",
   "metadata": {},
   "source": [
    "system:\n",
    "\n",
    "`$ lsb_release -a` \n",
    "`$ uname -a` \n",
    "```\n",
    "Ubuntu 18.04.1 LTS\n",
    "Linux c220g2-011019 4.15.0-88-generic #88-Ubuntu SMP Tue Feb 11 20:11:34 UTC 2020 x86_64 x86_64 x86_64 \n",
    "GNU/Linux\n",
    "```\n",
    "`$ sudo smartctl -a /dev/sdc` \n",
    "```\n",
    "Model Family:     Intel 730 and DC S35x0/3610/3700 Series SSDs\n",
    "Device Model:     INTEL SSDSC2BB480G4\n",
    "Serial Number:    BTWL523503PV480QGN\n",
    "LU WWN Device Id: 5 5cd2e4 04c04ba01\n",
    "Firmware Version: D2010374\n",
    "User Capacity:    480,103,981,056 bytes [480 GB]\n",
    "Sector Sizes:     512 bytes logical, 4096 bytes physical\n",
    "Rotation Rate:    Solid State Device\n",
    "Form Factor:      2.5 inches\n",
    "Device is:        In smartctl database [for details use: -P show]\n",
    "ATA Version is:   ACS-2 T13/2015-D revision 3\n",
    "SATA Version is:  SATA 2.6, 6.0 Gb/s (current: 6.0 Gb/s)\n",
    "Local Time is:    Tue Apr 28 07:49:06 2020 CDT\n",
    "SMART support is: Available - device has SMART capability.\n",
    "SMART support is: Enabled\n",
    "```\n"
   ]
  },
  {
   "cell_type": "markdown",
   "metadata": {},
   "source": [
    "ceph config:\n",
    "```\n",
    "    osd_op_num_shards = 8\n",
    "    osd_op_num_threads_per_shard = 2\n",
    "    enable_throttle = false\n",
    "    enable_codel = false\n",
    "    enable_batch_bound = false\n",
    "    kv_queue_upper_bound_size = 30\n",
    "    bluestore_throttle_bytes = 100000000\n",
    "    bluestore_throttle_deferred_bytes = 100000000\n",
    "    bluestore_throttle_cost_per_io = 0\n",
    "    bluestore_throttle_cost_per_io_hdd = 100000\n",
    "    bluestore_throttle_cost_per_io_ssd = 100000\n",
    "    bdev_block_size = 4096\n",
    "    bluestore_min_alloc_size = 0\n",
    "    bluestore_min_alloc_size_hdd = 65536\n",
    "    bluestore_min_alloc_size_ssd =  4096\n",
    "    bluestore_max_alloc_size = 0\n",
    "    bluestore_prefer_deferred_size = 0\n",
    "    bluestore_prefer_deferred_size_hdd = 0\n",
    "    bluestore_prefer_deferred_size_ssd = 0\n",
    "``` \n",
    "simple writes dominate"
   ]
  },
  {
   "cell_type": "markdown",
   "metadata": {},
   "source": [
    "workload:\n",
    "```\n",
    "[global]\n",
    "ioengine=rbd\n",
    "clientname=admin\n",
    "pool=mybench\n",
    "rbdname=image1\n",
    "rw=randwrite\n",
    "bs=4096\n",
    ";size=83886080000\n",
    "time_based=1\n",
    "runtime=300\n",
    "direct = 1\n",
    ";write_iops_log\n",
    "\n",
    "[fio-write]\n",
    "iodepth=48\n",
    "\n",
    "```"
   ]
  },
  {
   "cell_type": "markdown",
   "metadata": {},
   "source": [
    "Start Ceph cluster:\\\n",
    "`$sudo MON=1 OSD=1 MDS=0 ../src/vstart.sh -n -o 'bluestore block = /dev/sdc' -o 'bluestore block path = /dev/sdc' -o 'bluestore fsck on mkfs = false' -o 'bluestore fsck on mount = false' -o 'bluestore fsck on umount = false' -o 'bluestore block db path = ' -o 'bluestore block wal path = ' -o 'bluestore block wal create = false' -o 'bluestore block db create = false' --without-dashboard`\n",
    "\n",
    "OSD is mapped to a raw device(without file system)"
   ]
  },
  {
   "cell_type": "markdown",
   "metadata": {},
   "source": [
    "rbd info:"
   ]
  },
  {
   "cell_type": "code",
   "execution_count": 1,
   "metadata": {},
   "outputs": [
    {
     "name": "stdout",
     "output_type": "stream",
     "text": [
      "rbd image 'image1':\n",
      "\tsize 1 GiB in 256 objects\n",
      "\torder 22 (4 MiB objects)\n",
      "\tsnapshot_count: 0\n",
      "\tid: 1021d9fedd0\n",
      "\tblock_name_prefix: rbd_data.1021d9fedd0\n",
      "\tformat: 2\n",
      "\tfeatures: layering, exclusive-lock, object-map, fast-diff, deep-flatten\n",
      "\top_features: \n",
      "\tflags: \n",
      "\tcreate_timestamp: Tue May  5 01:30:02 2020\n",
      "\taccess_timestamp: Tue May  5 01:30:02 2020\n",
      "\tmodify_timestamp: Tue May  5 01:45:22 2020\n",
      "\n"
     ]
    }
   ],
   "source": [
    "f = open('dump_rbd_info.txt', 'r')\n",
    "file_contents = f.read()\n",
    "print (file_contents)\n",
    "f.close()"
   ]
  },
  {
   "cell_type": "code",
   "execution_count": null,
   "metadata": {},
   "outputs": [],
   "source": []
  }
 ],
 "metadata": {
  "kernelspec": {
   "display_name": "Python 3",
   "language": "python",
   "name": "python3"
  },
  "language_info": {
   "codemirror_mode": {
    "name": "ipython",
    "version": 3
   },
   "file_extension": ".py",
   "mimetype": "text/x-python",
   "name": "python",
   "nbconvert_exporter": "python",
   "pygments_lexer": "ipython3",
   "version": "3.7.6"
  }
 },
 "nbformat": 4,
 "nbformat_minor": 4
}
