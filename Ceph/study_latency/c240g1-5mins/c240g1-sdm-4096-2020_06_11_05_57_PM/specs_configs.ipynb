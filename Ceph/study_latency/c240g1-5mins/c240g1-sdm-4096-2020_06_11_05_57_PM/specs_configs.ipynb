{
 "cells": [
  {
   "cell_type": "markdown",
   "metadata": {},
   "source": [
    "## This is run on memdisk\n",
    "\n",
    "```\n",
    "# create a 32GB tmpfs\n",
    "sudo mkdir /mnt/mnttmp\n",
    "sudo mount -t tmpfs -o size=32G tmpfs /mnt/mnttmp\n",
    "sudo truncate -s 32G /mnt/mnttmp/loopfile\n",
    "\n",
    "# create and format loop device\n",
    "sudo losetup -f /mnt/mnttmp/loopfile\n",
    "sudo losetup -j /mnt/mnttmp/loopfile\n",
    "# output will say which loop device was used, e.g. loop0\n",
    "\n",
    "sudo mkfs.xfs /dev/loop0\n",
    "sudo rm -rf ~/ceph/build/dev/ ~/ceph/build/out/\n",
    "sudo mkdir ~/ceph/build/dev/\n",
    "sudo mount -t xfs /dev/loop0 ~/ceph/build/dev\n",
    "sudo chown $USER:$USER ~/src/ceph/build/dev\n",
    "\n",
    "[osd]\n",
    " bluestore block create = true\n",
    " bluestore block size = 32G\n",
    "\n",
    "If you're using vstart.sh, you can pass these options via -o.\n",
    "```"
   ]
  },
  {
   "cell_type": "markdown",
   "metadata": {},
   "source": [
    "system:\n",
    "\n",
    "`$ lsb_release -a` \n",
    "`$ uname -a` \n",
    "```\n",
    "Ubuntu 18.04.1 LTS\n",
    "Linux c220g5-110527 4.15.0-88-generic #88-Ubuntu SMP Tue Feb 11 20:11:34 UTC 2020 x86_64 x86_64 x86_64 GNU/Linux\n",
    "GNU/Linux\n",
    "```\n",
    "`$ sudo smartctl -a /dev/sda` \n",
    "```\n",
    "Device Model:     INTEL SSDSC2BB480G7K\n",
    "Serial Number:    PHDV724404VV480BGN\n",
    "LU WWN Device Id: 5 5cd2e4 14e0dd210\n",
    "Firmware Version: N201CS01\n",
    "User Capacity:    480,103,981,056 bytes [480 GB]\n",
    "Sector Sizes:     512 bytes logical, 4096 bytes physical\n",
    "Rotation Rate:    Solid State Device\n",
    "Form Factor:      2.5 inches\n",
    "Device is:        Not in smartctl database [for details use: -P showall]\n",
    "ATA Version is:   ACS-3 T13/2161-D revision 5\n",
    "SATA Version is:  SATA 3.1, 6.0 Gb/s (current: 6.0 Gb/s)\n",
    "Local Time is:    Wed Jun  3 12:20:23 2020 CDT\n",
    "SMART support is: Available - device has SMART capability.\n",
    "SMART support is: Enabled\n",
    "```\n"
   ]
  },
  {
   "cell_type": "markdown",
   "metadata": {},
   "source": [
    "ceph config:\n",
    "```\n",
    "    osd_op_num_shards = 8\n",
    "    osd_op_num_threads_per_shard = 2\n",
    "    enable_throttle = false\n",
    "    enable_codel = false\n",
    "    enable_batch_bound = false\n",
    "    kv_queue_upper_bound_size = 30\n",
    "    bluestore_throttle_bytes = 100000000\n",
    "    bluestore_throttle_deferred_bytes = 100000000\n",
    "    bluestore_throttle_cost_per_io = 0\n",
    "    bluestore_throttle_cost_per_io_hdd = 100000\n",
    "    bluestore_throttle_cost_per_io_ssd = 100000\n",
    "    bdev_block_size = 4096\n",
    "    bluestore_min_alloc_size = 4096\n",
    "    bluestore_min_alloc_size_hdd = 65536\n",
    "    bluestore_min_alloc_size_ssd =  4096\n",
    "    bluestore_max_alloc_size = 0\n",
    "    bluestore_prefer_deferred_size = 0\n",
    "    bluestore_prefer_deferred_size_hdd = 0\n",
    "    bluestore_prefer_deferred_size_ssd = 0\n",
    "``` \n",
    "simple writes dominate"
   ]
  },
  {
   "cell_type": "markdown",
   "metadata": {},
   "source": [
    "workload:\n",
    "```\n",
    "[global]\n",
    "ioengine=rbd\n",
    "clientname=admin\n",
    "pool=mybench\n",
    "rbdname=image1\n",
    "rw=randwrite\n",
    "bs=4096\n",
    ";size=83886080000\n",
    "time_based=1\n",
    "runtime=300\n",
    "direct = 1\n",
    ";write_iops_log\n",
    "\n",
    "[fio-write]\n",
    "iodepth=48\n",
    "\n",
    "```"
   ]
  },
  {
   "cell_type": "markdown",
   "metadata": {},
   "source": [
    "Start Ceph cluster:\\\n",
    "`sudo MON=1 OSD=1 MDS=0 ../src/vstart.sh -n -b -x -l  -o 'bluestore fsck on mkfs = false' -o 'bluestore fsck on mount = false' -o 'bluestore fsck on umount = false' -o 'bluestore block db path = ' -o 'bluestore block wal path = ' -o 'bluestore block wal create = false' -o 'bluestore block db create = false' -o 'bluestore block create = true' -o 'bluestore block size = 32G' --without-dashboard`\n",
    "\n",
    "OSD is is sharing SSD with monitor(has filesystem on it)"
   ]
  },
  {
   "cell_type": "markdown",
   "metadata": {},
   "source": [
    "rbd info:"
   ]
  },
  {
   "cell_type": "code",
   "execution_count": 1,
   "metadata": {},
   "outputs": [
    {
     "name": "stdout",
     "output_type": "stream",
     "text": [
      "rbd image 'image1':\n",
      "\tsize 1 GiB in 256 objects\n",
      "\torder 22 (4 MiB objects)\n",
      "\tsnapshot_count: 0\n",
      "\tid: 101f8af1ff0a\n",
      "\tblock_name_prefix: rbd_data.101f8af1ff0a\n",
      "\tformat: 2\n",
      "\tfeatures: layering, exclusive-lock, object-map, fast-diff, deep-flatten\n",
      "\top_features: \n",
      "\tflags: \n",
      "\tcreate_timestamp: Thu Jun  4 15:01:35 2020\n",
      "\taccess_timestamp: Thu Jun  4 15:01:35 2020\n",
      "\tmodify_timestamp: Thu Jun  4 15:26:05 2020\n",
      "\n"
     ]
    }
   ],
   "source": [
    "f = open('dump_rbd_info.txt', 'r')\n",
    "file_contents = f.read()\n",
    "print (file_contents)\n",
    "f.close()"
   ]
  },
  {
   "cell_type": "code",
   "execution_count": null,
   "metadata": {},
   "outputs": [],
   "source": []
  }
 ],
 "metadata": {
  "kernelspec": {
   "display_name": "Python 3",
   "language": "python",
   "name": "python3"
  },
  "language_info": {
   "codemirror_mode": {
    "name": "ipython",
    "version": 3
   },
   "file_extension": ".py",
   "mimetype": "text/x-python",
   "name": "python",
   "nbconvert_exporter": "python",
   "pygments_lexer": "ipython3",
   "version": "3.7.6"
  }
 },
 "nbformat": 4,
 "nbformat_minor": 4
}
