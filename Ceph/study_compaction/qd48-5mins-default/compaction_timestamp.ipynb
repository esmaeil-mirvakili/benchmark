{
 "cells": [
  {
   "cell_type": "code",
   "execution_count": 11,
   "metadata": {},
   "outputs": [
    {
     "data": {
      "image/png": "[encoded data removed]",
      "text/plain": [
       "<Figure size 432x288 with 1 Axes>"
      ]
     },
     "metadata": {
      "needs_background": "light"
     },
     "output_type": "display_data"
    }
   ],
   "source": [
    "import sys\n",
    "import numpy as np\n",
    "from pandas import read_csv\n",
    "import pandas as pd\n",
    "from dateutil import parser\n",
    "from datetime import datetime, timedelta, timezone\n",
    "import pytz\n",
    "import matplotlib.pyplot as plt\n",
    "utc=pytz.UTC\n",
    "#if1='l0recover_job_timestamps.csv' # Compaction for recovery writes. Happens before fio \n",
    "if2='flush_job_timestamps.csv'     # Compaction for L0\n",
    "if3='compact_job_timestamps.csv'   # Compaction for other levels\n",
    "id2=read_csv(if2, parse_dates=True, squeeze=True, sep=',', header=None)\n",
    "id3=read_csv(if3, parse_dates=True, squeeze=True, sep=',', header=None)\n",
    "\n",
    "id2len = len(id2.values)\n",
    "id3len = len(id3.values)\n",
    "\n",
    "x2_compact = [] # flush(L0) timestamps\n",
    "x3_compact = [] # compact(>= L1) timestamps\n",
    "y2_compact = [] # dummp y value\n",
    "y3_compact = [] # dummp y value\n",
    "w2_compact = [] # durations(width of compaction)\n",
    "w3_compact = [] # durations(width of compaction)\n",
    "\n",
    "for i in range(id2len):\n",
    "    x2_compact.append((parser.parse(id2.values[i,1])-timedelta(hours=5)).replace(tzinfo=utc))\n",
    "    w2_compact.append(id2.values[i,5]/1000000)\n",
    "    y2_compact.append(0.02)\n",
    "for i in range(id3len):\n",
    "    x3_compact.append((parser.parse(id3.values[i,1])-timedelta(hours=5)).replace(tzinfo=utc))\n",
    "    w3_compact.append(id3.values[i,5]/1000000)\n",
    "    y3_compact.append(0.02)\n",
    "\n",
    "\n",
    "plt.plot(x2_compact, y2_compact, label='4096 KiB',marker='^', c='g', linestyle='')\n",
    "plt.plot(x3_compact, y3_compact, label='4096 KiB',marker='d', c='r', linestyle='')\n",
    "#plt.set(xlabel='time stamps', ylabel='latency [secs]', title='Compaction Latency Time Series')\n",
    "plt.show()\n",
    "plt.close()\n",
    "\n",
    "now = datetime.now(timezone.utc)"
   ]
  },
  {
   "cell_type": "code",
   "execution_count": null,
   "metadata": {},
   "outputs": [],
   "source": []
  }
 ],
 "metadata": {
  "kernelspec": {
   "display_name": "Python 3",
   "language": "python",
   "name": "python3"
  },
  "language_info": {
   "codemirror_mode": {
    "name": "ipython",
    "version": 3
   },
   "file_extension": ".py",
   "mimetype": "text/x-python",
   "name": "python",
   "nbconvert_exporter": "python",
   "pygments_lexer": "ipython3",
   "version": "3.7.6"
  }
 },
 "nbformat": 4,
 "nbformat_minor": 4
}
