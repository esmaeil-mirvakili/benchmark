{
 "cells": [
  {
   "cell_type": "markdown",
   "metadata": {},
   "source": [
    "## Compare Default with Preconditioning with Prefilling"
   ]
  },
  {
   "cell_type": "markdown",
   "metadata": {},
   "source": [
    "* default: using default setting without prefilling and preconditioning \n",
    "* preconditioning: clear SSD's Logical block addressing (LBA) and write 2X of SSD's capacity of data to SSD before we run any experiments.\n",
    "* prefilling: run prefill workload for 15mins on Ceph cluster(same image, sam pool) before we run any experiments. "
   ]
  },
  {
   "cell_type": "code",
   "execution_count": null,
   "metadata": {},
   "outputs": [],
   "source": []
  }
 ],
 "metadata": {
  "kernelspec": {
   "display_name": "Python 3",
   "language": "python",
   "name": "python3"
  },
  "language_info": {
   "codemirror_mode": {
    "name": "ipython",
    "version": 3
   },
   "file_extension": ".py",
   "mimetype": "text/x-python",
   "name": "python",
   "nbconvert_exporter": "python",
   "pygments_lexer": "ipython3",
   "version": "3.7.6"
  }
 },
 "nbformat": 4,
 "nbformat_minor": 4
}
